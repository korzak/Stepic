{
 "cells": [
  {
   "cell_type": "code",
   "execution_count": 43,
   "metadata": {
    "collapsed": false,
    "scrolled": false
   },
   "outputs": [
    {
     "name": "stdout",
     "output_type": "stream",
     "text": [
      "113\n",
      "113 программистов\n"
     ]
    }
   ],
   "source": [
    "n = int(input())\n",
    "if (n % 10 == 1) and (n != 11) and (n % 100 != 11):\n",
    "    print(n, 'программист')\n",
    "elif (n % 10) in [2,3,4] and (n % 100) not in [12,13,14] :\n",
    "    print(n, 'программиста')\n",
    "else:\n",
    "    print(n, 'программистов')"
   ]
  },
  {
   "cell_type": "code",
   "execution_count": 52,
   "metadata": {
    "collapsed": false
   },
   "outputs": [
    {
     "name": "stdout",
     "output_type": "stream",
     "text": [
      "123745\n",
      "Обычный\n"
     ]
    }
   ],
   "source": [
    "n = int(input())\n",
    "a = (n//1000)\n",
    "b = n % 1000\n",
    "a = a% 100 // 10 + a //100 + a % 10\n",
    "b = b% 100 // 10 + b //100 + b % 10\n",
    "if a == b:\n",
    "    print(\"Счастливый\")\n",
    "else:\n",
    "    print(\"Обычный\")"
   ]
  },
  {
   "cell_type": "code",
   "execution_count": 54,
   "metadata": {
    "collapsed": false
   },
   "outputs": [
    {
     "name": "stdout",
     "output_type": "stream",
     "text": [
      "-1\n"
     ]
    }
   ],
   "source": [
    "a=0\n",
    "a-=1\n",
    "print(a)"
   ]
  },
  {
   "cell_type": "code",
   "execution_count": 55,
   "metadata": {
    "collapsed": false
   },
   "outputs": [
    {
     "name": "stdout",
     "output_type": "stream",
     "text": [
      "5 7 9 11 13 15 17 19 21 23 25 27 29 31 33 35 37 39 41 43 45 47 49 51 53 55 "
     ]
    }
   ],
   "source": [
    "a=5\n",
    "while a<=55 and a>=5:\n",
    "    print(a, end=' ')\n",
    "    a+=2"
   ]
  },
  {
   "cell_type": "code",
   "execution_count": 9,
   "metadata": {
    "collapsed": false,
    "scrolled": true
   },
   "outputs": [
    {
     "name": "stdout",
     "output_type": "stream",
     "text": [
      "1\n",
      "*\n"
     ]
    }
   ],
   "source": [
    "q = int(input())\n",
    "a = \"*\"\n",
    "n=1\n",
    "while n <= q:\n",
    "    print(a*n)\n",
    "    n+=1"
   ]
  },
  {
   "cell_type": "markdown",
   "metadata": {},
   "source": [
    "print(\"dsdf\")"
   ]
  },
  {
   "cell_type": "code",
   "execution_count": 1,
   "metadata": {
    "collapsed": false
   },
   "outputs": [
    {
     "name": "stdout",
     "output_type": "stream",
     "text": [
      "1\n"
     ]
    }
   ],
   "source": [
    "print(1)"
   ]
  },
  {
   "cell_type": "code",
   "execution_count": 12,
   "metadata": {
    "collapsed": false
   },
   "outputs": [
    {
     "name": "stdout",
     "output_type": "stream",
     "text": [
      "*\n",
      "**\n"
     ]
    }
   ],
   "source": [
    "i = 0\n",
    "while i < 1:\n",
    "    print('*')\n",
    "    if i % 2 == 0:\n",
    "        print('**')\n",
    "    if i > 2:\n",
    "        print('***')\n",
    "    i = i + 1"
   ]
  },
  {
   "cell_type": "code",
   "execution_count": 1,
   "metadata": {
    "collapsed": false,
    "scrolled": true
   },
   "outputs": [
    {
     "name": "stdout",
     "output_type": "stream",
     "text": [
      "1\n",
      "3\n",
      "6\n"
     ]
    }
   ],
   "source": [
    "a = int(input())\n",
    "b = int(input())\n",
    "i = a\n",
    "summ = 0\n",
    "while i <= b:\n",
    "    summ += i\n",
    "    i+=1\n",
    "print(summ)"
   ]
  },
  {
   "cell_type": "code",
   "execution_count": 5,
   "metadata": {
    "collapsed": false
   },
   "outputs": [
    {
     "name": "stdout",
     "output_type": "stream",
     "text": [
      "0\n",
      "0\n"
     ]
    }
   ],
   "source": [
    "summ=0\n",
    "num = 1\n",
    "while num !=0:\n",
    "    num = int(input())\n",
    "    summ += num\n",
    "print(summ)"
   ]
  },
  {
   "cell_type": "code",
   "execution_count": 8,
   "metadata": {
    "collapsed": false
   },
   "outputs": [
    {
     "name": "stdout",
     "output_type": "stream",
     "text": [
      "2\n",
      "**\n",
      "**\n"
     ]
    }
   ],
   "source": [
    "n = int(input())\n",
    "for i in range(n):\n",
    "    print('*'*n)"
   ]
  },
  {
   "cell_type": "markdown",
   "metadata": {},
   "source": [
    "Таблица умножения [a,b] на [b,c]"
   ]
  },
  {
   "cell_type": "code",
   "execution_count": 20,
   "metadata": {
    "collapsed": false
   },
   "outputs": [
    {
     "name": "stdout",
     "output_type": "stream",
     "text": [
      "1\n",
      "2\n",
      "3\n",
      "4\n",
      "  3 4 \n",
      "1 3 4 \n",
      "2 6 8 \n"
     ]
    }
   ],
   "source": [
    "a = int(input())\n",
    "b = int(input())\n",
    "c = int(input())\n",
    "d = int(input())\n",
    "print (\" \", end=\" \")\n",
    "for i in range(c,d+1):\n",
    "    print(i, end=\" \")\n",
    "print()\n",
    "for i in range(a,b+1):\n",
    "    print(i, end=\" \")\n",
    "    for j in range (c,d+1):\n",
    "        print(i*j, end=\" \")\n",
    "    print()"
   ]
  },
  {
   "cell_type": "markdown",
   "metadata": {},
   "source": [
    "Считывание двух чисел в одной строке, разделенных пробелом"
   ]
  },
  {
   "cell_type": "code",
   "execution_count": 28,
   "metadata": {
    "collapsed": false
   },
   "outputs": [
    {
     "name": "stdout",
     "output_type": "stream",
     "text": [
      "1 2\n"
     ]
    }
   ],
   "source": [
    "a, b = (int(i) for i in input().split())"
   ]
  },
  {
   "cell_type": "markdown",
   "metadata": {},
   "source": [
    "Напишите программу, которая считывает с клавиатуры два числа a и b, \n",
    "считает и выводит на консоль среднее арифметическое всех чисел из отрезка [a;b],\n",
    "которые делятся на 3."
   ]
  },
  {
   "cell_type": "code",
   "execution_count": 30,
   "metadata": {
    "collapsed": false
   },
   "outputs": [
    {
     "name": "stdout",
     "output_type": "stream",
     "text": [
      "-5\n",
      "12\n",
      "4.5\n"
     ]
    }
   ],
   "source": [
    "a = int(input())\n",
    "b = int(input())\n",
    "summ = 0;\n",
    "count = 0;\n",
    "for i in range(a,b+1):\n",
    "    if i % 3 == 0:\n",
    "        summ+=i\n",
    "        count+=1\n",
    "print(summ/count)"
   ]
  },
  {
   "cell_type": "markdown",
   "metadata": {},
   "source": [
    "Символы строки\n",
    "word[0] - первый символ\n",
    "word[-1] - первый символ с конца"
   ]
  },
  {
   "cell_type": "code",
   "execution_count": 43,
   "metadata": {
    "collapsed": false
   },
   "outputs": [
    {
     "name": "stdout",
     "output_type": "stream",
     "text": [
      "W\n",
      "7\n",
      "s\n",
      "------------------------\n",
      "W\n",
      "i\n",
      "n\n",
      "d\n",
      "o\n",
      "w\n",
      "s\n"
     ]
    }
   ],
   "source": [
    "word = 'Windows'\n",
    "print(word[0])\n",
    "print(len(word))\n",
    "print(word[-1])\n",
    "print(\"------------------------\")\n",
    "for i in range(len(word)):\n",
    "    print(word[i])"
   ]
  },
  {
   "cell_type": "markdown",
   "metadata": {},
   "source": [
    "Перечисление символов строки\n",
    "Цикл for можно использовать для поочередного перечисления всех символов строки \n"
   ]
  },
  {
   "cell_type": "code",
   "execution_count": 51,
   "metadata": {
    "collapsed": false
   },
   "outputs": [
    {
     "name": "stdout",
     "output_type": "stream",
     "text": [
      "W\n",
      "i\n",
      "n\n",
      "d\n",
      "o\n",
      "w\n",
      "s\n"
     ]
    }
   ],
   "source": [
    "\n",
    "word = 'Windows'\n",
    "for i in word:\n",
    "    print(i)"
   ]
  },
  {
   "cell_type": "markdown",
   "metadata": {},
   "source": [
    "Считает сколько раз в строке всчтречается символ, игнорируя регистр"
   ]
  },
  {
   "cell_type": "code",
   "execution_count": 56,
   "metadata": {
    "collapsed": false
   },
   "outputs": [
    {
     "name": "stdout",
     "output_type": "stream",
     "text": [
      "Windows WwW\n",
      "5\n",
      "Gindows GwG\n"
     ]
    }
   ],
   "source": [
    "word = input()\n",
    "print(word.lower().count('w')) #Считает сколько раз в строке всчтречается символ, игнорируя регистр\n",
    "print(word.replace('W', 'G'))  #Замена 'W' на 'G'"
   ]
  },
  {
   "cell_type": "code",
   "execution_count": 63,
   "metadata": {
    "collapsed": false
   },
   "outputs": [
    {
     "name": "stdout",
     "output_type": "stream",
     "text": [
      "acggtgttat\n",
      "40.0\n"
     ]
    }
   ],
   "source": [
    "#Напишите программу, которая вычисляет процентное содержание символов G (гуанин) и C (цитозин) \n",
    "#в введенной строке (программа не должна зависеть от регистра вводимых символов).\n",
    "\n",
    "#Например, в строке \"acggtgttat\" процентное содержание символов G и C равно 4/10⋅100=40.0, \n",
    "#где 4 -- это количество символов G и C,  а 10 -- это длина строки.\n",
    "strr = input()\n",
    "strr.lower()\n",
    "c = strr.count('c')\n",
    "g = strr.count('g')\n",
    "print((c+g)/len(strr)*100)"
   ]
  },
  {
   "cell_type": "markdown",
   "metadata": {},
   "source": [
    "Slicing"
   ]
  },
  {
   "cell_type": "code",
   "execution_count": 71,
   "metadata": {
    "collapsed": false
   },
   "outputs": [
    {
     "name": "stdout",
     "output_type": "stream",
     "text": [
      "1----------------------------\n",
      "   B\n",
      "2----------------------------\n",
      "   BCD\n",
      "3----------------------------\n",
      "   ABCD\n",
      "4----------------------------\n",
      "   LMNO\n",
      "5----------------------------\n",
      "   BCDEFGHIJKLMN\n",
      "6----------------------------\n",
      "   BDFHJLN\n",
      "7----------------------------\n",
      "   ONMLKJIHGFEDCBA\n",
      "\n"
     ]
    }
   ],
   "source": [
    "line = 'ABCDEFGHIJKLMNO'\n",
    "print('1----------------------------')\n",
    "print(\"  \",line[1]) #1\n",
    "print('2----------------------------')\n",
    "print(\"  \",line[1:4]) #2 диапазон захвата символов\n",
    "print('3----------------------------')\n",
    "print(\"  \",line[:4])  #3 диапазон не вкл лев границу\n",
    "print('4----------------------------')\n",
    "print(\"  \",line[-4:]) #4 сколько символов с конца\n",
    "print('5----------------------------')\n",
    "print(\"  \",line[1:-1]) #5 все от 1 до конца-1 символ\n",
    "print('6----------------------------')\n",
    "print(\"  \",line[1:-1:2]) #6 то же что и выше, только с шагом 2\n",
    "print('7----------------------------')\n",
    "print(\"  \",line[::-1]) #7 отрицательный шаг с права на лево вывод символом\n",
    "print()"
   ]
  },
  {
   "cell_type": "code",
   "execution_count": null,
   "metadata": {
    "collapsed": true
   },
   "outputs": [],
   "source": []
  }
 ],
 "metadata": {
  "kernelspec": {
   "display_name": "Python [conda root]",
   "language": "python",
   "name": "conda-root-py"
  },
  "language_info": {
   "codemirror_mode": {
    "name": "ipython",
    "version": 3
   },
   "file_extension": ".py",
   "mimetype": "text/x-python",
   "name": "python",
   "nbconvert_exporter": "python",
   "pygments_lexer": "ipython3",
   "version": "3.5.2"
  }
 },
 "nbformat": 4,
 "nbformat_minor": 1
}
