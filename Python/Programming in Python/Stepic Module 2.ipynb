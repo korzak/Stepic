{
 "cells": [
  {
   "cell_type": "code",
   "execution_count": 43,
   "metadata": {
    "collapsed": false,
    "scrolled": false
   },
   "outputs": [
    {
     "name": "stdout",
     "output_type": "stream",
     "text": [
      "113\n",
      "113 программистов\n"
     ]
    }
   ],
   "source": [
    "n = int(input())\n",
    "if (n % 10 == 1) and (n != 11) and (n % 100 != 11):\n",
    "    print(n, 'программист')\n",
    "elif (n % 10) in [2,3,4] and (n % 100) not in [12,13,14] :\n",
    "    print(n, 'программиста')\n",
    "else:\n",
    "    print(n, 'программистов')"
   ]
  },
  {
   "cell_type": "code",
   "execution_count": 52,
   "metadata": {
    "collapsed": false
   },
   "outputs": [
    {
     "name": "stdout",
     "output_type": "stream",
     "text": [
      "123745\n",
      "Обычный\n"
     ]
    }
   ],
   "source": [
    "n = int(input())\n",
    "a = (n//1000)\n",
    "b = n % 1000\n",
    "a = a% 100 // 10 + a //100 + a % 10\n",
    "b = b% 100 // 10 + b //100 + b % 10\n",
    "if a == b:\n",
    "    print(\"Счастливый\")\n",
    "else:\n",
    "    print(\"Обычный\")"
   ]
  },
  {
   "cell_type": "code",
   "execution_count": 54,
   "metadata": {
    "collapsed": false
   },
   "outputs": [
    {
     "name": "stdout",
     "output_type": "stream",
     "text": [
      "-1\n"
     ]
    }
   ],
   "source": [
    "a=0\n",
    "a-=1\n",
    "print(a)"
   ]
  },
  {
   "cell_type": "code",
   "execution_count": 55,
   "metadata": {
    "collapsed": false
   },
   "outputs": [
    {
     "name": "stdout",
     "output_type": "stream",
     "text": [
      "5 7 9 11 13 15 17 19 21 23 25 27 29 31 33 35 37 39 41 43 45 47 49 51 53 55 "
     ]
    }
   ],
   "source": [
    "a=5\n",
    "while a<=55 and a>=5:\n",
    "    print(a, end=' ')\n",
    "    a+=2"
   ]
  },
  {
   "cell_type": "code",
   "execution_count": 9,
   "metadata": {
    "collapsed": false,
    "scrolled": true
   },
   "outputs": [
    {
     "name": "stdout",
     "output_type": "stream",
     "text": [
      "1\n",
      "*\n"
     ]
    }
   ],
   "source": [
    "q = int(input())\n",
    "a = \"*\"\n",
    "n=1\n",
    "while n <= q:\n",
    "    print(a*n)\n",
    "    n+=1"
   ]
  },
  {
   "cell_type": "markdown",
   "metadata": {},
   "source": [
    "print(\"dsdf\")"
   ]
  },
  {
   "cell_type": "code",
   "execution_count": 1,
   "metadata": {
    "collapsed": false
   },
   "outputs": [
    {
     "name": "stdout",
     "output_type": "stream",
     "text": [
      "1\n"
     ]
    }
   ],
   "source": [
    "print(1)"
   ]
  },
  {
   "cell_type": "code",
   "execution_count": 12,
   "metadata": {
    "collapsed": false
   },
   "outputs": [
    {
     "name": "stdout",
     "output_type": "stream",
     "text": [
      "*\n",
      "**\n"
     ]
    }
   ],
   "source": [
    "i = 0\n",
    "while i < 1:\n",
    "    print('*')\n",
    "    if i % 2 == 0:\n",
    "        print('**')\n",
    "    if i > 2:\n",
    "        print('***')\n",
    "    i = i + 1"
   ]
  },
  {
   "cell_type": "code",
   "execution_count": 1,
   "metadata": {
    "collapsed": false,
    "scrolled": true
   },
   "outputs": [
    {
     "name": "stdout",
     "output_type": "stream",
     "text": [
      "1\n",
      "3\n",
      "6\n"
     ]
    }
   ],
   "source": [
    "a = int(input())\n",
    "b = int(input())\n",
    "i = a\n",
    "summ = 0\n",
    "while i <= b:\n",
    "    summ += i\n",
    "    i+=1\n",
    "print(summ)"
   ]
  },
  {
   "cell_type": "code",
   "execution_count": 5,
   "metadata": {
    "collapsed": false
   },
   "outputs": [
    {
     "name": "stdout",
     "output_type": "stream",
     "text": [
      "0\n",
      "0\n"
     ]
    }
   ],
   "source": [
    "summ=0\n",
    "num = 1\n",
    "while num !=0:\n",
    "    num = int(input())\n",
    "    summ += num\n",
    "print(summ)"
   ]
  },
  {
   "cell_type": "code",
   "execution_count": 8,
   "metadata": {
    "collapsed": false
   },
   "outputs": [
    {
     "name": "stdout",
     "output_type": "stream",
     "text": [
      "2\n",
      "**\n",
      "**\n"
     ]
    }
   ],
   "source": [
    "n = int(input())\n",
    "for i in range(n):\n",
    "    print('*'*n)"
   ]
  },
  {
   "cell_type": "markdown",
   "metadata": {},
   "source": [
    "Таблица умножения [a,b] на [b,c]"
   ]
  },
  {
   "cell_type": "code",
   "execution_count": 20,
   "metadata": {
    "collapsed": false
   },
   "outputs": [
    {
     "name": "stdout",
     "output_type": "stream",
     "text": [
      "1\n",
      "2\n",
      "3\n",
      "4\n",
      "  3 4 \n",
      "1 3 4 \n",
      "2 6 8 \n"
     ]
    }
   ],
   "source": [
    "a = int(input())\n",
    "b = int(input())\n",
    "c = int(input())\n",
    "d = int(input())\n",
    "print (\" \", end=\" \")\n",
    "for i in range(c,d+1):\n",
    "    print(i, end=\" \")\n",
    "print()\n",
    "for i in range(a,b+1):\n",
    "    print(i, end=\" \")\n",
    "    for j in range (c,d+1):\n",
    "        print(i*j, end=\" \")\n",
    "    print()"
   ]
  },
  {
   "cell_type": "markdown",
   "metadata": {},
   "source": [
    "Считывание двух чисел в одной строке, разделенных пробелом"
   ]
  },
  {
   "cell_type": "code",
   "execution_count": 28,
   "metadata": {
    "collapsed": false
   },
   "outputs": [
    {
     "name": "stdout",
     "output_type": "stream",
     "text": [
      "1 2\n"
     ]
    }
   ],
   "source": [
    "a, b = (int(i) for i in input().split())"
   ]
  },
  {
   "cell_type": "markdown",
   "metadata": {},
   "source": [
    "Напишите программу, которая считывает с клавиатуры два числа a и b, \n",
    "считает и выводит на консоль среднее арифметическое всех чисел из отрезка [a;b],\n",
    "которые делятся на 3."
   ]
  },
  {
   "cell_type": "code",
   "execution_count": 30,
   "metadata": {
    "collapsed": false
   },
   "outputs": [
    {
     "name": "stdout",
     "output_type": "stream",
     "text": [
      "-5\n",
      "12\n",
      "4.5\n"
     ]
    }
   ],
   "source": [
    "a = int(input())\n",
    "b = int(input())\n",
    "summ = 0;\n",
    "count = 0;\n",
    "for i in range(a,b+1):\n",
    "    if i % 3 == 0:\n",
    "        summ+=i\n",
    "        count+=1\n",
    "print(summ/count)"
   ]
  },
  {
   "cell_type": "markdown",
   "metadata": {},
   "source": [
    "Символы строки\n",
    "word[0] - первый символ\n",
    "word[-1] - первый символ с конца"
   ]
  },
  {
   "cell_type": "code",
   "execution_count": 43,
   "metadata": {
    "collapsed": false
   },
   "outputs": [
    {
     "name": "stdout",
     "output_type": "stream",
     "text": [
      "W\n",
      "7\n",
      "s\n",
      "------------------------\n",
      "W\n",
      "i\n",
      "n\n",
      "d\n",
      "o\n",
      "w\n",
      "s\n"
     ]
    }
   ],
   "source": [
    "word = 'Windows'\n",
    "print(word[0])\n",
    "print(len(word))\n",
    "print(word[-1])\n",
    "print(\"------------------------\")\n",
    "for i in range(len(word)):\n",
    "    print(word[i])"
   ]
  },
  {
   "cell_type": "markdown",
   "metadata": {},
   "source": [
    "Перечисление символов строки\n",
    "Цикл for можно использовать для поочередного перечисления всех символов строки \n"
   ]
  },
  {
   "cell_type": "code",
   "execution_count": 51,
   "metadata": {
    "collapsed": false
   },
   "outputs": [
    {
     "name": "stdout",
     "output_type": "stream",
     "text": [
      "W\n",
      "i\n",
      "n\n",
      "d\n",
      "o\n",
      "w\n",
      "s\n"
     ]
    }
   ],
   "source": [
    "\n",
    "word = 'Windows'\n",
    "for i in word:\n",
    "    print(i)"
   ]
  },
  {
   "cell_type": "markdown",
   "metadata": {},
   "source": [
    "Считает сколько раз в строке всчтречается символ, игнорируя регистр"
   ]
  },
  {
   "cell_type": "code",
   "execution_count": 56,
   "metadata": {
    "collapsed": false
   },
   "outputs": [
    {
     "name": "stdout",
     "output_type": "stream",
     "text": [
      "Windows WwW\n",
      "5\n",
      "Gindows GwG\n"
     ]
    }
   ],
   "source": [
    "word = input()\n",
    "print(word.lower().count('w')) #Считает сколько раз в строке всчтречается символ, игнорируя регистр\n",
    "print(word.replace('W', 'G'))  #Замена 'W' на 'G'"
   ]
  },
  {
   "cell_type": "code",
   "execution_count": 81,
   "metadata": {
    "collapsed": false
   },
   "outputs": [
    {
     "name": "stdout",
     "output_type": "stream",
     "text": [
      "qwertGCGCqw\n",
      "36.36363636363637\n"
     ]
    }
   ],
   "source": [
    "#Напишите программу, которая вычисляет процентное содержание символов G (гуанин) и C (цитозин) \n",
    "#в введенной строке (программа не должна зависеть от регистра вводимых символов).\n",
    "\n",
    "#Например, в строке \"acggtgttat\" процентное содержание символов G и C равно 4/10⋅100=40.0, \n",
    "#где 4 -- это количество символов G и C,  а 10 -- это длина строки.\n",
    "strr = input()\n",
    "strr = strr.lower()\n",
    "c = strr.count('c')\n",
    "g = strr.count('g')\n",
    "\n",
    "print((c+g)/len(strr)*100)"
   ]
  },
  {
   "cell_type": "markdown",
   "metadata": {},
   "source": [
    "Slicing"
   ]
  },
  {
   "cell_type": "code",
   "execution_count": 71,
   "metadata": {
    "collapsed": false
   },
   "outputs": [
    {
     "name": "stdout",
     "output_type": "stream",
     "text": [
      "1----------------------------\n",
      "   B\n",
      "2----------------------------\n",
      "   BCD\n",
      "3----------------------------\n",
      "   ABCD\n",
      "4----------------------------\n",
      "   LMNO\n",
      "5----------------------------\n",
      "   BCDEFGHIJKLMN\n",
      "6----------------------------\n",
      "   BDFHJLN\n",
      "7----------------------------\n",
      "   ONMLKJIHGFEDCBA\n",
      "\n"
     ]
    }
   ],
   "source": [
    "line = 'ABCDEFGHIJKLMNO'\n",
    "print('1----------------------------')\n",
    "print(\"  \",line[1]) #1\n",
    "print('2----------------------------')\n",
    "print(\"  \",line[1:4]) #2 диапазон захвата символов\n",
    "print('3----------------------------')\n",
    "print(\"  \",line[:4])  #3 диапазон не вкл лев границу\n",
    "print('4----------------------------')\n",
    "print(\"  \",line[-4:]) #4 сколько символов с конца\n",
    "print('5----------------------------')\n",
    "print(\"  \",line[1:-1]) #5 все от 1 до конца-1 символ\n",
    "print('6----------------------------')\n",
    "print(\"  \",line[1:-1:2]) #6 то же что и выше, только с шагом 2\n",
    "print('7----------------------------')\n",
    "print(\"  \",line[::-1]) #7 отрицательный шаг с права на лево вывод символом\n",
    "print()"
   ]
  },
  {
   "cell_type": "markdown",
   "metadata": {},
   "source": [
    "Решение палиндром"
   ]
  },
  {
   "cell_type": "code",
   "execution_count": 74,
   "metadata": {
    "collapsed": false
   },
   "outputs": [
    {
     "name": "stdout",
     "output_type": "stream",
     "text": [
      "qwertyytrewq\n",
      "YES\n"
     ]
    }
   ],
   "source": [
    "s = input()\n",
    "i = 0\n",
    "j = len(s) - 1 \n",
    "is_Palindrom = True\n",
    "while i < j:\n",
    "    if s[i] != s[j]:\n",
    "        is_Palindrom = False\n",
    "    i+=1\n",
    "    j-=1\n",
    "if is_Palindrom:\n",
    "    print('YES')\n",
    "else:\n",
    "    print('NO')\n"
   ]
  },
  {
   "cell_type": "code",
   "execution_count": 79,
   "metadata": {
    "collapsed": false
   },
   "outputs": [
    {
     "name": "stdout",
     "output_type": "stream",
     "text": [
      "abcddcba\n",
      "YES\n"
     ]
    }
   ],
   "source": [
    "#Способ 2\n",
    "s = input()\n",
    "r = s[::-1]\n",
    "if s == r:\n",
    "    print('YES')\n",
    "else:\n",
    "    print('NO')"
   ]
  },
  {
   "cell_type": "code",
   "execution_count": 77,
   "metadata": {
    "collapsed": false
   },
   "outputs": [
    {
     "name": "stdout",
     "output_type": "stream",
     "text": [
      "def\n",
      "abcde\n",
      "kigec\n"
     ]
    }
   ],
   "source": [
    "s = 'abcdefghijk'\n",
    "s.upper()\n",
    "print(s[3:6])\n",
    "s[:6]\n",
    "s[3:]\n",
    "s[::-1]\n",
    "s[-3:]\n",
    "print(s[:-6])\n",
    "print(s[-1:-10:-2])"
   ]
  },
  {
   "cell_type": "markdown",
   "metadata": {},
   "source": [
    "Кодирование осуществляется следующим образом:\n",
    "s = 'aaaabbсaa' преобразуется в 'a4b2с1a2', то есть группы одинаковых символов исходной строки заменяются на этот символ и количество его повторений в этой позиции строки.\n",
    "\n",
    "Напишите программу, которая считывает строку, кодирует её предложенным алгоритмом и выводит закодированную последовательность на стандартный вывод. Кодирование должно учитывать регистр символов."
   ]
  },
  {
   "cell_type": "code",
   "execution_count": 14,
   "metadata": {
    "collapsed": false
   },
   "outputs": [
    {
     "name": "stdout",
     "output_type": "stream",
     "text": [
      "aaaa\n",
      "a4"
     ]
    }
   ],
   "source": [
    "s = input()\n",
    "count = 1\n",
    "s=s+\" \"\n",
    "for i in range(len(s)-1):\n",
    "    if s[i] == s[i+1]:\n",
    "        count += 1\n",
    "    if s[i] != s[i+1]:\n",
    "        print(s[i], end=\"\")\n",
    "        print(count, end=\"\")\n",
    "        count = 1\n",
    "    "
   ]
  },
  {
   "cell_type": "markdown",
   "metadata": {},
   "source": [
    "СПИСКИ"
   ]
  },
  {
   "cell_type": "code",
   "execution_count": 15,
   "metadata": {
    "collapsed": false
   },
   "outputs": [
    {
     "name": "stdout",
     "output_type": "stream",
     "text": [
      "Hello, Bob!\n",
      "Hello, Mary!\n",
      "Hello, Aleksandr!\n"
     ]
    }
   ],
   "source": [
    "students = ['Bob', 'Mary', 'Aleksandr']\n",
    "for student in students:\n",
    "    print(\"Hello, \" + student + \"!\")"
   ]
  },
  {
   "cell_type": "code",
   "execution_count": 17,
   "metadata": {
    "collapsed": false
   },
   "outputs": [
    {
     "name": "stdout",
     "output_type": "stream",
     "text": [
      "['Ivan', 'Masha', 'Sasha', 'Olga', 'O', 'l', 'g', 'a']\n"
     ]
    }
   ],
   "source": [
    "students = ['Ivan', 'Masha', 'Sasha']\n",
    "students += ['Olga']\n",
    "students += 'Olga'\n",
    "print (students)"
   ]
  },
  {
   "cell_type": "code",
   "execution_count": 25,
   "metadata": {
    "collapsed": false
   },
   "outputs": [
    {
     "name": "stdout",
     "output_type": "stream",
     "text": [
      "['Aleksandr', 'Angela', 'Bob', 'Mark', 'Mary', 'Steve']\n"
     ]
    }
   ],
   "source": [
    "#Сортировка списка 1\n",
    "students = ['Bob', 'Mary', 'Aleksandr', 'Angela', 'Mark', 'Steve']\n",
    "sorted_students = sorted(students)\n",
    "print(sorted_students)"
   ]
  },
  {
   "cell_type": "code",
   "execution_count": 32,
   "metadata": {
    "collapsed": false
   },
   "outputs": [
    {
     "name": "stdout",
     "output_type": "stream",
     "text": [
      "[1, 2, 3]\n",
      "[1, 10, 3]\n",
      "[20, 10, 3]\n"
     ]
    }
   ],
   "source": [
    "a = [1, 2, 3]\n",
    "b = a\n",
    "print(b)\n",
    "# значения списка b?\n",
    "\n",
    "a[1] = 10\n",
    "# значения списка b?\n",
    "print(b)\n",
    "b[0] = 20\n",
    "# значения списка a?\n",
    "\n",
    "a = [5, 6]\n",
    "# значения списка b?\n",
    "print(b)"
   ]
  },
  {
   "cell_type": "code",
   "execution_count": 37,
   "metadata": {
    "collapsed": false
   },
   "outputs": [
    {
     "name": "stdout",
     "output_type": "stream",
     "text": [
      "4 -1 9 3\n",
      "15\n"
     ]
    }
   ],
   "source": [
    "#Напишите программу, на вход которой подается одна строка с целыми числами. \n",
    "#Программа должна вывести сумму этих чисел.\n",
    "sum=0\n",
    "a = [int(i) for i in input().split()]\n",
    "for i in a:\n",
    "    sum+=i\n",
    "print(sum)"
   ]
  },
  {
   "cell_type": "code",
   "execution_count": 41,
   "metadata": {
    "collapsed": false
   },
   "outputs": [],
   "source": [
    "#Напишите программу, на вход которой подаётся список чисел одной строкой. \n",
    "#Программа должна для каждого элемента этого списка вывести сумму двух его соседей. \n",
    "#Для элементов списка, являющихся крайними, одним из соседей считается элемент, \n",
    "#находящий на противоположном конце этого списка. \n",
    "#Например, если на вход подаётся список \"1 3 5 6 10\", то на выход ожидается список \"13 6 9 15 7\" (без кавычек).\n",
    "\n",
    "#Если на вход пришло только одно число, надо вывести его же.\n",
    "\n",
    "#Вывод должен содержать одну строку с числами нового списка, разделёнными пробелом.\n",
    "\n"
   ]
  },
  {
   "cell_type": "code",
   "execution_count": 2,
   "metadata": {
    "collapsed": false
   },
   "outputs": [
    {
     "name": "stdout",
     "output_type": "stream",
     "text": [
      "1 2 3 4 5\n",
      "7 4 6 8 5 "
     ]
    }
   ],
   "source": [
    "a = [int(i) for i in input().split()]\n",
    "if len(a) == 1:\n",
    "    print(a[0])\n",
    "else:\n",
    "    for i in range(len(a)):\n",
    "        if i != len(a)-1:\n",
    "            print(a[i-1]+a[i+1], end=\" \")\n",
    "        else:\n",
    "            print((a[0]+a[i-1]), end=\" \")\n",
    "        "
   ]
  },
  {
   "cell_type": "code",
   "execution_count": 16,
   "metadata": {
    "collapsed": false
   },
   "outputs": [
    {
     "name": "stdout",
     "output_type": "stream",
     "text": [
      "4 8 0 3 4 2 0 3\n",
      "0 3 4 "
     ]
    }
   ],
   "source": [
    "#Напишите программу, которая принимает на вход список чисел в одной строке и выводит на экран в одну строку значения, \n",
    "#которые повторяются в нём более одного раза.\n",
    "\n",
    "#Для решения задачи может пригодиться метод sort списка.\n",
    "\n",
    "#Выводимые числа не должны повторяться, порядок их вывода может быть произвольным.\n",
    "\n",
    "a = [int(i) for i in input().split()]\n",
    "b = sorted(a)\n",
    "k=0\n",
    "#print(\"Сортированный массив--->\"+str(b)) #временно\n",
    "for i in range(len(b)-1):\n",
    "    #print(\"b[\"+ str(i) +\"] = \" + str(b[i])+\" b[\"+ str(i+1) +\"] = \" + str(b[i+1])) #временно\n",
    "    #print (\"i--> \"+str(i))\n",
    "    #print (\"len(b)-2--> \"+str(len(b)-2))\n",
    "    if b[i] == b[i+1]:\n",
    "        compare = b[i]\n",
    "        k += 1\n",
    "    elif (b[i] != b[i+1] and k !=0):\n",
    "        print(compare, end=\" \")\n",
    "        k = 0\n",
    "    if i == (len(b)-2) and k !=0:\n",
    "        print(compare, end=\" \")\n",
    "#print(k)"
   ]
  },
  {
   "cell_type": "code",
   "execution_count": 38,
   "metadata": {
    "collapsed": false
   },
   "outputs": [
    {
     "name": "stdout",
     "output_type": "stream",
     "text": [
      "1 2 3 \n",
      "4 5 6 \n",
      "7 8 9 \n"
     ]
    }
   ],
   "source": [
    "a = [[1, 2, 3], [4, 5, 6], [7, 8, 9]]\n",
    "for i in range(len(a)):\n",
    "    for j in range(len(a)):\n",
    "        print(str(a[i][j])+' ', end=\"\")\n",
    "    print()"
   ]
  },
  {
   "cell_type": "code",
   "execution_count": 39,
   "metadata": {
    "collapsed": false
   },
   "outputs": [
    {
     "name": "stdout",
     "output_type": "stream",
     "text": [
      "5\n"
     ]
    }
   ],
   "source": [
    "#Оказывается, возможно создавать целые иерархические структуры списков, например:\n",
    "\n",
    "a = [[1, 2, 3, [4, 5, 6]]]\n",
    "print(a[0][3][1])"
   ]
  },
  {
   "cell_type": "code",
   "execution_count": 47,
   "metadata": {
    "collapsed": false
   },
   "outputs": [
    {
     "name": "stdout",
     "output_type": "stream",
     "text": [
      "[[5, 0, 0], [5, 0, 0], [5, 0, 0]]\n"
     ]
    }
   ],
   "source": [
    "#Генерация двумерных списков\n",
    "\n",
    "#----------------- не хорошо ----------------------\n",
    "n = 3\n",
    "a = [[0]*n]*n\n",
    "a[0][0] = 5\n",
    "print(a)\n",
    "#--------------------------------------------------\n"
   ]
  },
  {
   "cell_type": "code",
   "execution_count": 52,
   "metadata": {
    "collapsed": false
   },
   "outputs": [
    {
     "name": "stdout",
     "output_type": "stream",
     "text": [
      "[[0, 0, 0], [0, 0, 0], [0, 0, 0]]\n",
      "\n",
      "\n",
      "[[1, 1, 1], [1, 1, 1], [1, 1, 1]]\n"
     ]
    }
   ],
   "source": [
    "#Генерация двумерных списков\n",
    "\n",
    "#---------------- хорошо --------------------------\n",
    "n=3\n",
    "a = [[0]*n for i in range(n)]\n",
    "print (a)\n",
    "print(\"\\n\")\n",
    "b = [[1 for j in range(n)] for i in range(n)]\n",
    "print(b)\n",
    "#--------------------------------------------------"
   ]
  },
  {
   "cell_type": "code",
   "execution_count": 56,
   "metadata": {
    "collapsed": false
   },
   "outputs": [
    {
     "name": "stdout",
     "output_type": "stream",
     "text": [
      "3\n"
     ]
    }
   ],
   "source": [
    "#Поиск минимума в списке\n",
    "a = [5, 8, 4, 3, 5, 7]\n",
    "print(min(a))"
   ]
  },
  {
   "cell_type": "code",
   "execution_count": 58,
   "metadata": {
    "collapsed": false
   },
   "outputs": [
    {
     "name": "stdout",
     "output_type": "stream",
     "text": [
      "3\n"
     ]
    }
   ],
   "source": [
    "#Поиск миниму в списке\n",
    "a = [5, 8, 4, 3, 5, 7]\n",
    "minn = a[1]\n",
    "for i in range(len(a)):\n",
    "    if a[i] < minn:\n",
    "        minn = a[i]\n",
    "print(minn)"
   ]
  },
  {
   "cell_type": "code",
   "execution_count": 60,
   "metadata": {
    "collapsed": false
   },
   "outputs": [
    {
     "name": "stdout",
     "output_type": "stream",
     "text": [
      "1 2 3 4 0 7 3 2\n",
      "0\n"
     ]
    }
   ],
   "source": [
    "a = [int(i) for i in input().split()]\n",
    "minn = a[0]\n",
    "for i in a: #перебор всего списка(массива)\n",
    "    if a[i] < minn:\n",
    "        minn = a[i]\n",
    "print(minn)"
   ]
  },
  {
   "cell_type": "code",
   "execution_count": null,
   "metadata": {
    "collapsed": true
   },
   "outputs": [],
   "source": [
    "# Сапер\n",
    "# Даны размеры поля для игры в сапер и координаты мин, стоящих на этом поле.\n",
    "# Вывести поле игры на экран.\n",
    "\"\"\"\n",
    "Simple INPUT:\n",
    "5 4 4\n",
    "1 1\n",
    "2 2 \n",
    "3 2\n",
    "4 4\n",
    "\n",
    "Simple OTPUT:\n",
    "* 2 1 .\n",
    "3 * 2 .\n",
    "2 * 3 1n, m, k = (int(i) for i in input().split())\n",
    "1 1 2 *\n",
    ". . 1 1\n",
    "\n",
    "\"\"\"\n",
    "n, m, k = (int(i) for i in input().split()) #считываем размеры(n*m) поля и кол-во мин (k)\n",
    "a = [[0 for j in range(m)] for i in range(n)]# строит двумерный список и хаполняет его нулями\n",
    "for i in range(k): #раскладываем мины в список\n",
    "    row, col = (int(i) - 1 for i in input().split())#по сколько индексация с нуля, а вводят координаты с й, cразу вычтим 1\n",
    "    a[row][col] = -1\n",
    "for i in range(n):\n",
    "    for j in range(m):\n",
    "        if a[i][j] == 0:\n",
    "            for di in range(-1, 2): #от 1 до 2, т. к. правая граница не включается\n",
    "                for dj in range(-1, 2):\n",
    "                    ai = i + di\n",
    "                    aj = j + dj\n",
    "                    # (ai, aj)\n",
    "                    if 0 <= ai < n and 0 <= aj < m and a[ai][aj] == -1:\n",
    "                        a[i][j] += 1\n",
    "for i in range(n):\n",
    "    for j in range(m):\n",
    "        if a[i][j] == -1:\n",
    "            print('* ', end='')\n",
    "        elif a[i][j] == 0:\n",
    "            print('. ', end='')\n",
    "        else:\n",
    "            print(str(a[i][j])+\" \", end='')\n",
    "    print()"
   ]
  }
 ],
 "metadata": {
  "kernelspec": {
   "display_name": "Python [conda root]",
   "language": "python",
   "name": "conda-root-py"
  },
  "language_info": {
   "codemirror_mode": {
    "name": "ipython",
    "version": 3
   },
   "file_extension": ".py",
   "mimetype": "text/x-python",
   "name": "python",
   "nbconvert_exporter": "python",
   "pygments_lexer": "ipython3",
   "version": "3.5.2"
  }
 },
 "nbformat": 4,
 "nbformat_minor": 1
}
