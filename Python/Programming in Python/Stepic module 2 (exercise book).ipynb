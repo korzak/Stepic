{
 "cells": [
  {
   "cell_type": "code",
   "execution_count": 3,
   "metadata": {
    "collapsed": false
   },
   "outputs": [
    {
     "name": "stdout",
     "output_type": "stream",
     "text": [
      "1\n",
      "-3\n",
      "5\n",
      "-6\n",
      "-10\n",
      "13\n",
      "340\n"
     ]
    }
   ],
   "source": [
    "#Напишите программу, которая считывает с консоли числа (по одному в строке) до тех пор, \n",
    "#пока сумма введённых чисел не будет равна 0 и сразу после этого выводит сумму квадратов всех считанных чисел.\n",
    "\n",
    "#Гарантируется, что в какой-то момент сумма введённых чисел окажется равной 0, \n",
    "#после этого считывание продолжать не нужно.\n",
    "\n",
    "#В примере мы считываем числа 1, -3, 5, -6, -10, 13; в этот момент замечаем, \n",
    "#что сумма этих чисел равна нулю и выводим сумму их квадратов, не обращая внимания на то, \n",
    "#что остались ещё не прочитанные значения.\n",
    "\"\"\"\n",
    "Sample Input:\n",
    "1\n",
    "-3\n",
    "5\n",
    "-6\n",
    "-10\n",
    "13\n",
    "4\n",
    "-8\n",
    "Sample Output:\n",
    "340\n",
    "\"\"\"\n",
    "summ = int(input())\n",
    "square = summ ** 2\n",
    "while summ != 0:\n",
    "    value = int(input())\n",
    "    summ += value\n",
    "    square += value ** 2\n",
    "print(square)\n",
    "    "
   ]
  },
  {
   "cell_type": "code",
   "execution_count": 11,
   "metadata": {
    "collapsed": false
   },
   "outputs": [
    {
     "name": "stdout",
     "output_type": "stream",
     "text": [
      "INPUT:7\n",
      "1\n",
      "2\n",
      "2\n",
      "3\n",
      "3\n",
      "3\n",
      "4\n"
     ]
    }
   ],
   "source": [
    "#Напишите программу, \n",
    "#которая выводит часть последовательности 1 2 2 3 3 3 4 4 4 4 5 5 5 5 5 ... (число повторяется столько раз, чему равно). \n",
    "#На вход программе передаётся положительное целое число n — столько элементов последовательности должна отобразить программа. \n",
    "#На выходе ожидается последовательность чисел, записанных через пробел в одну строку. \n",
    "\n",
    "#Например, если n = 7, то программа должна вывести 1 2 2 3 3 3 4.\n",
    "\"\"\"\n",
    "Sample Input:\n",
    "7\n",
    "Sample Output:\n",
    "1 2 2 3 3 3 4\n",
    "\"\"\"\n",
    "n = int(input(\"INPUT:\"))\n",
    "count = 0\n",
    "for i in range(n):\n",
    "    for j in range (i+1):\n",
    "        if count == n:\n",
    "            break\n",
    "        print(i+1)\n",
    "        count +=1;\n"
   ]
  },
  {
   "cell_type": "code",
   "execution_count": 30,
   "metadata": {
    "collapsed": false
   },
   "outputs": [
    {
     "name": "stdout",
     "output_type": "stream",
     "text": [
      "5 8 2 7 8 8 2 4\n",
      "10\n",
      "Отсутствует\n"
     ]
    }
   ],
   "source": [
    "#Напишите программу, которая считывает список чисел lst из первой строки и число x из второй строки, \n",
    "#которая выводит все позиции, на которых встречается число x в переданном списке lst.\n",
    "\n",
    "#Позиции нумеруются с нуля, если число x не встречается в списке, \n",
    "#вывести строку \"Отсутствует\" (без кавычек, с большой буквы).\n",
    "\n",
    "#Позиции должны быть выведены в одну строку, по возрастанию абсолютного значения.\n",
    "\"\"\"\n",
    "Sample Input 1:\n",
    "5 8 2 7 8 8 2 4\n",
    "8\n",
    "Sample Output 1:\n",
    "1 4 5\n",
    "\n",
    "Sample Input 2:\n",
    "5 8 2 7 8 8 2 4\n",
    "10\n",
    "Sample Output 2:\n",
    "Отсутствует\n",
    "\"\"\"\n",
    "#Вариант 1\n",
    "lst = [int(i) for i in input().split()]\n",
    "x = int(input())\n",
    "count = 0\n",
    "for i in range(len(lst)):\n",
    "    if lst[i] == x:\n",
    "        print(i, end=\" \")\n",
    "        count += 1\n",
    "if count == 0:\n",
    "    print(\"Отсутствует\")\n",
    "    #print(lst[i])\n",
    "#print(\"\\n\"+\"lst-------->\"+str(lst)+\"\\n\"+\"x------->\"+str(x))"
   ]
  },
  {
   "cell_type": "code",
   "execution_count": 31,
   "metadata": {
    "collapsed": false
   },
   "outputs": [
    {
     "name": "stdout",
     "output_type": "stream",
     "text": [
      "5 8 2 7 8 8 2 4\n",
      "10\n",
      "Отсутствует\n"
     ]
    }
   ],
   "source": [
    "#Вариант 2\n",
    "lst = input().split()\n",
    "x = input()\n",
    "if x not in lst:\n",
    "    print(\"Отсутствует\")\n",
    "for i in range(len(lst)):\n",
    "    if lst[i] == x:\n",
    "        print(i, end=' ')"
   ]
  },
  {
   "cell_type": "code",
   "execution_count": 32,
   "metadata": {
    "collapsed": false
   },
   "outputs": [
    {
     "name": "stdout",
     "output_type": "stream",
     "text": [
      "5 8 2 7 8 8 2 4\n",
      "10\n",
      "Отсутствует\n"
     ]
    }
   ],
   "source": [
    "#Вариант 3\n",
    "lst, x = map(int, input().strip().split()), int(input())\n",
    "idx = [i for i, e in enumerate(lst) if e == x]\n",
    "print(*idx) if idx else print(\"Отсутствует\")"
   ]
  },
  {
   "cell_type": "code",
   "execution_count": null,
   "metadata": {
    "collapsed": true
   },
   "outputs": [],
   "source": []
  }
 ],
 "metadata": {
  "anaconda-cloud": {},
  "kernelspec": {
   "display_name": "Python [conda root]",
   "language": "python",
   "name": "conda-root-py"
  },
  "language_info": {
   "codemirror_mode": {
    "name": "ipython",
    "version": 3
   },
   "file_extension": ".py",
   "mimetype": "text/x-python",
   "name": "python",
   "nbconvert_exporter": "python",
   "pygments_lexer": "ipython3",
   "version": "3.5.2"
  }
 },
 "nbformat": 4,
 "nbformat_minor": 1
}
