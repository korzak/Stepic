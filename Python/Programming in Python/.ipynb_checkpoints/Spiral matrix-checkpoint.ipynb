{
 "cells": [
  {
   "cell_type": "markdown",
   "metadata": {},
   "source": [
    "#Выведите таблицу размером n×n, заполненную числами от 1 до n^2\n",
    "#по спирали, выходящей из левого верхнего угла и закрученной по часовой стрелке, \n",
    "#как показано в примере (здесь n=5):\n",
    "\"\"\"\n",
    "Sample Input:\n",
    "5\n",
    "Sample Output:\n",
    "1 2 3 4 5\n",
    "16 17 18 19 6\n",
    "15 24 25 20 7\n",
    "14 23 22 21 8\n",
    "13 12 11 10 9\n",
    "\"\"\""
   ]
  },
  {
   "cell_type": "code",
   "execution_count": 5,
   "metadata": {
    "collapsed": false
   },
   "outputs": [
    {
     "name": "stdout",
     "output_type": "stream",
     "text": [
      "5\n",
      "1 2 3 4 5 \n",
      "16 17 18 19 6 \n",
      "15 24 25 20 7 \n",
      "14 23 22 21 8 \n",
      "13 12 11 10 9 \n"
     ]
    }
   ],
   "source": [
    "def spiral(n):\n",
    "    dx,dy = 1,0           \n",
    "    x,y = 0,0              \n",
    "    \n",
    "    myarray = [[None]* n for j in range(n)] #создаем список n*n, заполняя ячейки None\n",
    "    \n",
    "    for i in range(1,n**2+1): #цикл от 1 до 25\n",
    "        myarray[x][y] = i\n",
    "        nx,ny = x+dx, y+dy\n",
    "        if 0<=nx<n and 0<=ny<n and myarray[nx][ny] == None:\n",
    "            x,y = nx,ny\n",
    "        else:\n",
    "            dx,dy = -dy,dx\n",
    "            x,y = x+dx, y+dy\n",
    "    return myarray\n",
    " \n",
    "def printspiral(myarray):\n",
    "    n = range(len(myarray))\n",
    "    for y in n:\n",
    "        for x in n:\n",
    "            print (myarray[x][y],end=' ')\n",
    "        print()\n",
    "\n",
    "n = int(input())\n",
    "printspiral(spiral(n))"
   ]
  },
  {
   "cell_type": "code",
   "execution_count": null,
   "metadata": {
    "collapsed": true
   },
   "outputs": [],
   "source": []
  }
 ],
 "metadata": {
  "anaconda-cloud": {},
  "kernelspec": {
   "display_name": "Python [conda root]",
   "language": "python",
   "name": "conda-root-py"
  },
  "language_info": {
   "codemirror_mode": {
    "name": "ipython",
    "version": 3
   },
   "file_extension": ".py",
   "mimetype": "text/x-python",
   "name": "python",
   "nbconvert_exporter": "python",
   "pygments_lexer": "ipython3",
   "version": "3.5.2"
  }
 },
 "nbformat": 4,
 "nbformat_minor": 1
}
