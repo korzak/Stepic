{
 "cells": [
  {
   "cell_type": "code",
   "execution_count": 3,
   "metadata": {
    "collapsed": false
   },
   "outputs": [
    {
     "name": "stdout",
     "output_type": "stream",
     "text": [
      "1\n",
      "-3\n",
      "5\n",
      "-6\n",
      "-10\n",
      "13\n",
      "340\n"
     ]
    }
   ],
   "source": [
    "#Напишите программу, которая считывает с консоли числа (по одному в строке) до тех пор, \n",
    "#пока сумма введённых чисел не будет равна 0 и сразу после этого выводит сумму квадратов всех считанных чисел.\n",
    "\n",
    "#Гарантируется, что в какой-то момент сумма введённых чисел окажется равной 0, \n",
    "#после этого считывание продолжать не нужно.\n",
    "\n",
    "#В примере мы считываем числа 1, -3, 5, -6, -10, 13; в этот момент замечаем, \n",
    "#что сумма этих чисел равна нулю и выводим сумму их квадратов, не обращая внимания на то, \n",
    "#что остались ещё не прочитанные значения.\n",
    "\"\"\"\n",
    "Sample Input:\n",
    "1\n",
    "-3\n",
    "5\n",
    "-6\n",
    "-10\n",
    "13\n",
    "4\n",
    "-8\n",
    "Sample Output:\n",
    "340\n",
    "\"\"\"\n",
    "summ = int(input())\n",
    "square = summ ** 2\n",
    "while summ != 0:\n",
    "    value = int(input())\n",
    "    summ += value\n",
    "    square += value ** 2\n",
    "print(square)\n",
    "    "
   ]
  },
  {
   "cell_type": "code",
   "execution_count": null,
   "metadata": {
    "collapsed": true
   },
   "outputs": [],
   "source": [
    "#Напишите программу, \n",
    "#которая выводит часть последовательности 1 2 2 3 3 3 4 4 4 4 5 5 5 5 5 ... (число повторяется столько раз, чему равно). \n",
    "#На вход программе передаётся положительное целое число n — столько элементов последовательности должна отобразить программа. \n",
    "#На выходе ожидается последовательность чисел, записанных через пробел в одну строку. \n",
    "\n",
    "Например, если n = 7, то программа должна вывести 1 2 2 3 3 3 4."
   ]
  }
 ],
 "metadata": {
  "anaconda-cloud": {},
  "kernelspec": {
   "display_name": "Python [conda root]",
   "language": "python",
   "name": "conda-root-py"
  },
  "language_info": {
   "codemirror_mode": {
    "name": "ipython",
    "version": 3
   },
   "file_extension": ".py",
   "mimetype": "text/x-python",
   "name": "python",
   "nbconvert_exporter": "python",
   "pygments_lexer": "ipython3",
   "version": "3.5.2"
  }
 },
 "nbformat": 4,
 "nbformat_minor": 1
}
