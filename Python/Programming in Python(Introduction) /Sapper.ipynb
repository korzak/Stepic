{
 "cells": [
  {
   "cell_type": "code",
   "execution_count": 18,
   "metadata": {
    "collapsed": false
   },
   "outputs": [
    {
     "name": "stdout",
     "output_type": "stream",
     "text": [
      "5 4 4\n",
      "1 1\n",
      "2 2\n",
      "3 2\n",
      "4 4\n",
      "* 2 1 . \n",
      "3 * 2 . \n",
      "2 * 3 1 \n",
      "1 1 2 * \n",
      ". . 1 1 \n"
     ]
    }
   ],
   "source": [
    "# Сапер\n",
    "# Даны размеры поля для игры в сапер и координаты мин, стоящих на этом поле.\n",
    "# Вывести поле игры на экран.\n",
    "\"\"\"\n",
    "Simple INPUT:\n",
    "5 4 4\n",
    "1 1\n",
    "2 2 \n",
    "3 2\n",
    "4 4\n",
    "\n",
    "Simple OTPUT:\n",
    "* 2 1 .\n",
    "3 * 2 .\n",
    "2 * 3 1n, m, k = (int(i) for i in input().split())\n",
    "1 1 2 *\n",
    ". . 1 1\n",
    "\n",
    "\"\"\"\n",
    "n, m, k = (int(i) for i in input().split()) #считываем размеры(n*m) поля и кол-во мин (k)\n",
    "a = [[0 for j in range(m)] for i in range(n)]# строит двумерный список и хаполняет его нулями\n",
    "for i in range(k): #раскладываем мины в список\n",
    "    row, col = (int(i) - 1 for i in input().split())#по сколько индексация с нуля, а вводят координаты с й, cразу вычтим 1\n",
    "    a[row][col] = -1\n",
    "for i in range(n):\n",
    "    for j in range(m):\n",
    "        if a[i][j] == 0:\n",
    "            for di in range(-1, 2): #от 1 до 2, т. к. правая граница не включается\n",
    "                for dj in range(-1, 2):\n",
    "                    ai = i + di\n",
    "                    aj = j + dj\n",
    "                    # (ai, aj)\n",
    "                    if 0 <= ai < n and 0 <= aj < m and a[ai][aj] == -1:\n",
    "                        a[i][j] += 1\n",
    "for i in range(n):\n",
    "    for j in range(m):\n",
    "        if a[i][j] == -1:\n",
    "            print('* ', end='')\n",
    "        elif a[i][j] == 0:\n",
    "            print('. ', end='')\n",
    "        else:\n",
    "            print(str(a[i][j])+\" \", end='')\n",
    "    print()"
   ]
  },
  {
   "cell_type": "code",
   "execution_count": null,
   "metadata": {
    "collapsed": true
   },
   "outputs": [],
   "source": [
    ""
   ]
  }
 ],
 "metadata": {
  "anaconda-cloud": {},
  "kernelspec": {
   "display_name": "Python [conda root]",
   "language": "python",
   "name": "conda-root-py"
  },
  "language_info": {
   "codemirror_mode": {
    "name": "ipython",
    "version": 3.0
   },
   "file_extension": ".py",
   "mimetype": "text/x-python",
   "name": "python",
   "nbconvert_exporter": "python",
   "pygments_lexer": "ipython3",
   "version": "3.5.2"
  }
 },
 "nbformat": 4,
 "nbformat_minor": 0
}